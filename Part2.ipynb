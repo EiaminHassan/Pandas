{
 "cells": [
  {
   "cell_type": "markdown",
   "id": "6d87bdcd",
   "metadata": {},
   "source": [
    "import and load dataset"
   ]
  },
  {
   "cell_type": "code",
   "execution_count": 1,
   "id": "aad0b0eb",
   "metadata": {},
   "outputs": [],
   "source": [
    "import pandas as pd\n",
    "import numpy as np\n",
    "data = {\n",
    "    \"Name\": [\"Alice\", \"Bob\", \"Charlie\", \"David\", \"Eve\", \"Frank\", \"Grace\", \"Hannah\"],\n",
    "    \"Age\": [24, 30, 22, 35, 29, 40, 28, 31],\n",
    "    \"Salary\": [50000, 60000, 55000, 70000, 65000, 80000, 72000, 58000],\n",
    "    \"Department\": [\"HR\", \"Finance\", \"IT\", \"Marketing\", \"Finance\", \"IT\", \"HR\", \"Marketing\"],\n",
    "    \"Rating\": [4.5, 3.8, 4.0, 4.2, 3.9, 4.8, 4.1, 3.7]\n",
    "}\n",
    "df = pd.DataFrame(data)"
   ]
  },
  {
   "cell_type": "markdown",
   "id": "5822ee1f",
   "metadata": {},
   "source": [
    "DataFrame modifiation"
   ]
  },
  {
   "cell_type": "code",
   "execution_count": null,
   "id": "a42c0fe1",
   "metadata": {},
   "outputs": [
    {
     "name": "stdout",
     "output_type": "stream",
     "text": [
      "      Name  Age     Location  Salary Department  Rating  Experience_Years\n",
      "0    Alice   24     New York   50000         HR     4.5                 2\n",
      "1      Bob   30  Los Angeles   60000    Finance     3.8                 5\n",
      "2  Charlie   22      Chicago   55000         IT     4.0                 1\n",
      "\n",
      "\n",
      "      Name  Age     Location  Salary Department  Rating  Experience_Years\n",
      "0    Alice   24     New York   50000         HR     4.5                 2\n",
      "1      Bob   30  Los Angeles   60000    Finance     3.8                 5\n",
      "2  Charlie   22      Chicago   55000         IT     4.0                 1\n"
     ]
    }
   ],
   "source": [
    "# insert a new column\n",
    "\n",
    "#Straightforward way to insert a new column\n",
    "df['Experience_Years'] = [2, 5, 1, 8, 4, 10, 3, 6] #This will add a new column at the end of the DataFrame\n",
    "print(df.head(3))\n",
    "\n",
    "print(\"\\n\")\n",
    "\n",
    "# Using the insert method to add a new column at a specific position\n",
    "df.insert(2, 'Location', ['New York', 'Los Angeles', 'Chicago', 'Houston', 'Phoenix', 'Philadelphia', 'San Antonio', 'San Diego'])\n",
    "print(df.head(3))"
   ]
  },
  {
   "cell_type": "code",
   "execution_count": 8,
   "id": "9e803564",
   "metadata": {},
   "outputs": [
    {
     "name": "stdout",
     "output_type": "stream",
     "text": [
      "      Name  Age     Location  Salary Department  Rating  Experience_Years\n",
      "0    Alice   24     New York   52000         HR     4.5                 2\n",
      "1      Bob   30  Los Angeles   60000    Finance     4.1                 5\n",
      "2  Charlie   22      Chicago   55000         IT     4.0                 1\n"
     ]
    }
   ],
   "source": [
    "# updating a single value in the DataFrame\n",
    "df.at[0, 'Salary'] = 52000  # Update Alice's salary\n",
    "df.loc[1, 'Rating'] = 4.1  # Update Bob's rating\n",
    "print(df.head(3))"
   ]
  },
  {
   "cell_type": "code",
   "execution_count": 9,
   "id": "7ba4567c",
   "metadata": {},
   "outputs": [
    {
     "name": "stdout",
     "output_type": "stream",
     "text": [
      "      Name  Age     Location   Salary Department  Rating  Experience_Years\n",
      "0    Alice   24     New York  57200.0         HR     4.5                 2\n",
      "1      Bob   30  Los Angeles  66000.0    Finance     4.1                 5\n",
      "2  Charlie   22      Chicago  60500.0         IT     4.0                 1\n",
      "3    David   35      Houston  77000.0  Marketing     4.2                 8\n",
      "4      Eve   29      Phoenix  71500.0    Finance     3.9                 4\n"
     ]
    }
   ],
   "source": [
    "# updating a column\n",
    "df['Salary'] = df['Salary'] * 1.1  # Increase all salaries by 10%\n",
    "print(df.head(5))"
   ]
  },
  {
   "cell_type": "code",
   "execution_count": 10,
   "id": "1de9efd3",
   "metadata": {},
   "outputs": [
    {
     "name": "stdout",
     "output_type": "stream",
     "text": [
      "      Name  Age   Salary Department  Rating\n",
      "0    Alice   24  57200.0         HR     4.5\n",
      "1      Bob   30  66000.0    Finance     4.1\n",
      "2  Charlie   22  60500.0         IT     4.0\n"
     ]
    }
   ],
   "source": [
    "# drop columns\n",
    "df.drop(columns=['Experience_Years', 'Location'], inplace=True)  # Drop the columns we just added\n",
    "# here inplace=True means that the changes will be applied to the original DataFrame\n",
    "print(df.head(3))"
   ]
  },
  {
   "cell_type": "code",
   "execution_count": null,
   "id": "c2ec1a87",
   "metadata": {},
   "outputs": [],
   "source": []
  }
 ],
 "metadata": {
  "kernelspec": {
   "display_name": "Python 3",
   "language": "python",
   "name": "python3"
  },
  "language_info": {
   "codemirror_mode": {
    "name": "ipython",
    "version": 3
   },
   "file_extension": ".py",
   "mimetype": "text/x-python",
   "name": "python",
   "nbconvert_exporter": "python",
   "pygments_lexer": "ipython3",
   "version": "3.13.3"
  }
 },
 "nbformat": 4,
 "nbformat_minor": 5
}
