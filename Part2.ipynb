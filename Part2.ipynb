{
 "cells": [
  {
   "cell_type": "markdown",
   "id": "6d87bdcd",
   "metadata": {},
   "source": [
    "import and load dataset"
   ]
  },
  {
   "cell_type": "code",
   "execution_count": 1,
   "id": "aad0b0eb",
   "metadata": {},
   "outputs": [],
   "source": [
    "import pandas as pd\n",
    "import numpy as np\n",
    "data = {\n",
    "    \"Name\": [\"Alice\", \"Bob\", \"Charlie\", \"David\", \"Eve\", \"Frank\", \"Grace\", \"Hannah\"],\n",
    "    \"Age\": [24, 30, 22, 35, 29, 40, 28, 31],\n",
    "    \"Salary\": [50000, 60000, 55000, 70000, 65000, 80000, 72000, 58000],\n",
    "    \"Department\": [\"HR\", \"Finance\", \"IT\", \"Marketing\", \"Finance\", \"IT\", \"HR\", \"Marketing\"],\n",
    "    \"Rating\": [4.5, 3.8, 4.0, 4.2, 3.9, 4.8, 4.1, 3.7]\n",
    "}\n",
    "df = pd.DataFrame(data)"
   ]
  },
  {
   "cell_type": "markdown",
   "id": "5822ee1f",
   "metadata": {},
   "source": [
    "DataFrame modifiation"
   ]
  },
  {
   "cell_type": "code",
   "execution_count": null,
   "id": "a42c0fe1",
   "metadata": {},
   "outputs": [
    {
     "name": "stdout",
     "output_type": "stream",
     "text": [
      "      Name  Age     Location  Salary Department  Rating  Experience_Years\n",
      "0    Alice   24     New York   50000         HR     4.5                 2\n",
      "1      Bob   30  Los Angeles   60000    Finance     3.8                 5\n",
      "2  Charlie   22      Chicago   55000         IT     4.0                 1\n",
      "\n",
      "\n",
      "      Name  Age     Location  Salary Department  Rating  Experience_Years\n",
      "0    Alice   24     New York   50000         HR     4.5                 2\n",
      "1      Bob   30  Los Angeles   60000    Finance     3.8                 5\n",
      "2  Charlie   22      Chicago   55000         IT     4.0                 1\n"
     ]
    }
   ],
   "source": [
    "# insert a new column\n",
    "\n",
    "#Straightforward way to insert a new column\n",
    "df['Experience_Years'] = [2, 5, 1, 8, 4, 10, 3, 6] #This will add a new column at the end of the DataFrame\n",
    "print(df.head(3))\n",
    "\n",
    "print(\"\\n\")\n",
    "\n",
    "# Using the insert method to add a new column at a specific position\n",
    "df.insert(2, 'Location', ['New York', 'Los Angeles', 'Chicago', 'Houston', 'Phoenix', 'Philadelphia', 'San Antonio', 'San Diego'])\n",
    "print(df.head(3))"
   ]
  },
  {
   "cell_type": "code",
   "execution_count": 8,
   "id": "9e803564",
   "metadata": {},
   "outputs": [
    {
     "name": "stdout",
     "output_type": "stream",
     "text": [
      "      Name  Age     Location  Salary Department  Rating  Experience_Years\n",
      "0    Alice   24     New York   52000         HR     4.5                 2\n",
      "1      Bob   30  Los Angeles   60000    Finance     4.1                 5\n",
      "2  Charlie   22      Chicago   55000         IT     4.0                 1\n"
     ]
    }
   ],
   "source": [
    "# updating a single value in the DataFrame\n",
    "df.at[0, 'Salary'] = 52000  # Update Alice's salary\n",
    "df.loc[1, 'Rating'] = 4.1  # Update Bob's rating\n",
    "print(df.head(3))"
   ]
  },
  {
   "cell_type": "code",
   "execution_count": 9,
   "id": "7ba4567c",
   "metadata": {},
   "outputs": [
    {
     "name": "stdout",
     "output_type": "stream",
     "text": [
      "      Name  Age     Location   Salary Department  Rating  Experience_Years\n",
      "0    Alice   24     New York  57200.0         HR     4.5                 2\n",
      "1      Bob   30  Los Angeles  66000.0    Finance     4.1                 5\n",
      "2  Charlie   22      Chicago  60500.0         IT     4.0                 1\n",
      "3    David   35      Houston  77000.0  Marketing     4.2                 8\n",
      "4      Eve   29      Phoenix  71500.0    Finance     3.9                 4\n"
     ]
    }
   ],
   "source": [
    "# updating a column\n",
    "df['Salary'] = df['Salary'] * 1.1  # Increase all salaries by 10%\n",
    "print(df.head(5))"
   ]
  },
  {
   "cell_type": "code",
   "execution_count": 10,
   "id": "1de9efd3",
   "metadata": {},
   "outputs": [
    {
     "name": "stdout",
     "output_type": "stream",
     "text": [
      "      Name  Age   Salary Department  Rating\n",
      "0    Alice   24  57200.0         HR     4.5\n",
      "1      Bob   30  66000.0    Finance     4.1\n",
      "2  Charlie   22  60500.0         IT     4.0\n"
     ]
    }
   ],
   "source": [
    "# drop columns\n",
    "df.drop(columns=['Experience_Years', 'Location'], inplace=True)  # Drop the columns we just added\n",
    "# here inplace=True means that the changes will be applied to the original DataFrame\n",
    "print(df.head(3))"
   ]
  },
  {
   "cell_type": "markdown",
   "id": "d215cb56",
   "metadata": {},
   "source": [
    "Inspect Missing Data"
   ]
  },
  {
   "cell_type": "code",
   "execution_count": 5,
   "id": "c2ec1a87",
   "metadata": {},
   "outputs": [
    {
     "name": "stdout",
     "output_type": "stream",
     "text": [
      "      Name   Age Gender Department   Salary\n",
      "0    Alice  25.0      F         HR  50000.0\n",
      "1      Bob   NaN      M         IT  60000.0\n",
      "2  Charlie  30.0    NaN    Finance  70000.0\n",
      "3    David  45.0      M        NaN  80000.0\n",
      "4      Eva   NaN      F         HR      NaN\n",
      "5    Frank  29.0      M    Finance  65000.0\n",
      "6      NaN  33.0      F         IT  72000.0\n"
     ]
    }
   ],
   "source": [
    "import pandas as pd\n",
    "import numpy as np\n",
    "\n",
    "data = {\n",
    "    'Name': ['Alice', 'Bob', 'Charlie', 'David', 'Eva', 'Frank', np.nan],\n",
    "    'Age': [25, np.nan, 30, 45, np.nan, 29, 33],\n",
    "    'Gender': ['F', 'M', np.nan, 'M', 'F', 'M', 'F'],\n",
    "    'Department': ['HR', 'IT', 'Finance', np.nan, 'HR', 'Finance', 'IT'],\n",
    "    'Salary': [50000, 60000, 70000, 80000, np.nan, 65000, 72000]\n",
    "}\n",
    "\n",
    "df = pd.DataFrame(data)\n",
    "print(df)\n"
   ]
  },
  {
   "cell_type": "code",
   "execution_count": 7,
   "id": "5de7cf6f",
   "metadata": {},
   "outputs": [
    {
     "name": "stdout",
     "output_type": "stream",
     "text": [
      "    Name    Age  Gender  Department  Salary\n",
      "0  False  False   False       False   False\n",
      "1  False   True   False       False   False\n",
      "2  False  False    True       False   False\n",
      "3  False  False   False        True   False\n",
      "4  False   True   False       False    True\n",
      "5  False  False   False       False   False\n",
      "6   True  False   False       False   False\n"
     ]
    }
   ],
   "source": [
    "# Check which values are missing\n",
    "print(df.isnull())"
   ]
  },
  {
   "cell_type": "code",
   "execution_count": 8,
   "id": "94665d3a",
   "metadata": {},
   "outputs": [
    {
     "name": "stdout",
     "output_type": "stream",
     "text": [
      "Name          1\n",
      "Age           2\n",
      "Gender        1\n",
      "Department    1\n",
      "Salary        1\n",
      "dtype: int64\n"
     ]
    }
   ],
   "source": [
    "# Count total missing values per column\n",
    "print(df.isnull().sum())"
   ]
  },
  {
   "cell_type": "code",
   "execution_count": 11,
   "id": "3c0ccd42",
   "metadata": {},
   "outputs": [
    {
     "name": "stdout",
     "output_type": "stream",
     "text": [
      "<class 'pandas.core.frame.DataFrame'>\n",
      "RangeIndex: 7 entries, 0 to 6\n",
      "Data columns (total 5 columns):\n",
      " #   Column      Non-Null Count  Dtype  \n",
      "---  ------      --------------  -----  \n",
      " 0   Name        6 non-null      object \n",
      " 1   Age         5 non-null      float64\n",
      " 2   Gender      6 non-null      object \n",
      " 3   Department  6 non-null      object \n",
      " 4   Salary      6 non-null      float64\n",
      "dtypes: float64(2), object(3)\n",
      "memory usage: 412.0+ bytes\n",
      "None\n"
     ]
    }
   ],
   "source": [
    "# summary of the dataset\n",
    "print(df.info())"
   ]
  },
  {
   "cell_type": "code",
   "execution_count": 12,
   "id": "cea167b4",
   "metadata": {},
   "outputs": [
    {
     "name": "stdout",
     "output_type": "stream",
     "text": [
      "      Name   Age Gender Department   Salary\n",
      "1      Bob   NaN      M         IT  60000.0\n",
      "2  Charlie  30.0    NaN    Finance  70000.0\n",
      "3    David  45.0      M        NaN  80000.0\n",
      "4      Eva   NaN      F         HR      NaN\n",
      "6      NaN  33.0      F         IT  72000.0\n"
     ]
    }
   ],
   "source": [
    "#  Find rows that contain any missing values\n",
    "print(df[df.isnull().any(axis=1)])"
   ]
  },
  {
   "cell_type": "code",
   "execution_count": 14,
   "id": "02f54281",
   "metadata": {},
   "outputs": [
    {
     "name": "stdout",
     "output_type": "stream",
     "text": [
      "Empty DataFrame\n",
      "Columns: [Name, Age, Gender, Department, Salary]\n",
      "Index: []\n"
     ]
    }
   ],
   "source": [
    "# Find rows that are fully missing (none in this case)\n",
    "print(df[df.isnull().all(axis=1)])"
   ]
  },
  {
   "cell_type": "markdown",
   "id": "e7ba36ac",
   "metadata": {},
   "source": [
    "Handling missing values with different methods"
   ]
  },
  {
   "cell_type": "code",
   "execution_count": 28,
   "id": "ccb2419a",
   "metadata": {},
   "outputs": [
    {
     "data": {
      "text/html": [
       "<div>\n",
       "<style scoped>\n",
       "    .dataframe tbody tr th:only-of-type {\n",
       "        vertical-align: middle;\n",
       "    }\n",
       "\n",
       "    .dataframe tbody tr th {\n",
       "        vertical-align: top;\n",
       "    }\n",
       "\n",
       "    .dataframe thead th {\n",
       "        text-align: right;\n",
       "    }\n",
       "</style>\n",
       "<table border=\"1\" class=\"dataframe\">\n",
       "  <thead>\n",
       "    <tr style=\"text-align: right;\">\n",
       "      <th></th>\n",
       "      <th>EmployeeID</th>\n",
       "      <th>Name</th>\n",
       "      <th>Age</th>\n",
       "      <th>Department</th>\n",
       "      <th>JoiningDate</th>\n",
       "      <th>Salary</th>\n",
       "      <th>PerformanceRating</th>\n",
       "    </tr>\n",
       "  </thead>\n",
       "  <tbody>\n",
       "    <tr>\n",
       "      <th>0</th>\n",
       "      <td>101</td>\n",
       "      <td>Alice</td>\n",
       "      <td>25.0</td>\n",
       "      <td>HR</td>\n",
       "      <td>2020-01-15</td>\n",
       "      <td>50000.0</td>\n",
       "      <td>3.5</td>\n",
       "    </tr>\n",
       "    <tr>\n",
       "      <th>1</th>\n",
       "      <td>102</td>\n",
       "      <td>Bob</td>\n",
       "      <td>NaN</td>\n",
       "      <td>IT</td>\n",
       "      <td>2019-11-01</td>\n",
       "      <td>60000.0</td>\n",
       "      <td>4.0</td>\n",
       "    </tr>\n",
       "    <tr>\n",
       "      <th>2</th>\n",
       "      <td>103</td>\n",
       "      <td>Charlie</td>\n",
       "      <td>30.0</td>\n",
       "      <td>Finance</td>\n",
       "      <td>NaT</td>\n",
       "      <td>70000.0</td>\n",
       "      <td>NaN</td>\n",
       "    </tr>\n",
       "    <tr>\n",
       "      <th>3</th>\n",
       "      <td>104</td>\n",
       "      <td>David</td>\n",
       "      <td>45.0</td>\n",
       "      <td>NaN</td>\n",
       "      <td>2018-05-20</td>\n",
       "      <td>80000.0</td>\n",
       "      <td>4.5</td>\n",
       "    </tr>\n",
       "    <tr>\n",
       "      <th>4</th>\n",
       "      <td>105</td>\n",
       "      <td>Eva</td>\n",
       "      <td>NaN</td>\n",
       "      <td>HR</td>\n",
       "      <td>2021-02-10</td>\n",
       "      <td>NaN</td>\n",
       "      <td>3.8</td>\n",
       "    </tr>\n",
       "    <tr>\n",
       "      <th>5</th>\n",
       "      <td>106</td>\n",
       "      <td>NaN</td>\n",
       "      <td>28.0</td>\n",
       "      <td>Finance</td>\n",
       "      <td>2020-08-01</td>\n",
       "      <td>64000.0</td>\n",
       "      <td>4.2</td>\n",
       "    </tr>\n",
       "    <tr>\n",
       "      <th>6</th>\n",
       "      <td>107</td>\n",
       "      <td>George</td>\n",
       "      <td>40.0</td>\n",
       "      <td>IT</td>\n",
       "      <td>NaT</td>\n",
       "      <td>NaN</td>\n",
       "      <td>NaN</td>\n",
       "    </tr>\n",
       "    <tr>\n",
       "      <th>7</th>\n",
       "      <td>108</td>\n",
       "      <td>Helen</td>\n",
       "      <td>38.0</td>\n",
       "      <td>IT</td>\n",
       "      <td>2022-03-15</td>\n",
       "      <td>72000.0</td>\n",
       "      <td>3.9</td>\n",
       "    </tr>\n",
       "  </tbody>\n",
       "</table>\n",
       "</div>"
      ],
      "text/plain": [
       "   EmployeeID     Name   Age Department JoiningDate   Salary  \\\n",
       "0         101    Alice  25.0         HR  2020-01-15  50000.0   \n",
       "1         102      Bob   NaN         IT  2019-11-01  60000.0   \n",
       "2         103  Charlie  30.0    Finance         NaT  70000.0   \n",
       "3         104    David  45.0        NaN  2018-05-20  80000.0   \n",
       "4         105      Eva   NaN         HR  2021-02-10      NaN   \n",
       "5         106      NaN  28.0    Finance  2020-08-01  64000.0   \n",
       "6         107   George  40.0         IT         NaT      NaN   \n",
       "7         108    Helen  38.0         IT  2022-03-15  72000.0   \n",
       "\n",
       "   PerformanceRating  \n",
       "0                3.5  \n",
       "1                4.0  \n",
       "2                NaN  \n",
       "3                4.5  \n",
       "4                3.8  \n",
       "5                4.2  \n",
       "6                NaN  \n",
       "7                3.9  "
      ]
     },
     "execution_count": 28,
     "metadata": {},
     "output_type": "execute_result"
    }
   ],
   "source": [
    "# Dataset with missing values\n",
    "import pandas as pd\n",
    "import numpy as np\n",
    "data = {\n",
    "    'EmployeeID': [101, 102, 103, 104, 105, 106, 107, 108],\n",
    "    'Name': ['Alice', 'Bob', 'Charlie', 'David', 'Eva', np.nan, 'George', 'Helen'],\n",
    "    'Age': [25, np.nan, 30, 45, np.nan, 28, 40, 38],\n",
    "    'Department': ['HR', 'IT', 'Finance', np.nan, 'HR', 'Finance', 'IT', 'IT'],\n",
    "    'JoiningDate': ['2020-01-15', '2019-11-01', np.nan, '2018-05-20', '2021-02-10', '2020-08-01', np.nan, '2022-03-15'],\n",
    "    'Salary': [50000, 60000, 70000, 80000, np.nan, 64000, np.nan, 72000],\n",
    "    'PerformanceRating': [3.5, 4.0, np.nan, 4.5, 3.8, 4.2, np.nan, 3.9]\n",
    "}\n",
    "\n",
    "df = pd.DataFrame(data)\n",
    "df['JoiningDate'] = pd.to_datetime(df['JoiningDate'])  # Convert to datetime\n",
    "df"
   ]
  },
  {
   "cell_type": "code",
   "execution_count": 29,
   "id": "b45796aa",
   "metadata": {},
   "outputs": [
    {
     "name": "stdout",
     "output_type": "stream",
     "text": [
      "   EmployeeID   Name   Age Department JoiningDate   Salary  PerformanceRating\n",
      "0         101  Alice  25.0         HR  2020-01-15  50000.0                3.5\n",
      "7         108  Helen  38.0         IT  2022-03-15  72000.0                3.9\n",
      "\n",
      "\n",
      "   EmployeeID\n",
      "0         101\n",
      "1         102\n",
      "2         103\n",
      "3         104\n",
      "4         105\n",
      "5         106\n",
      "6         107\n",
      "7         108\n",
      "\n",
      "\n",
      "   EmployeeID     Name   Age Department JoiningDate   Salary  \\\n",
      "0         101    Alice  25.0         HR  2020-01-15  50000.0   \n",
      "1         102      Bob   NaN         IT  2019-11-01  60000.0   \n",
      "2         103  Charlie  30.0    Finance         NaT  70000.0   \n",
      "3         104    David  45.0        NaN  2018-05-20  80000.0   \n",
      "4         105      Eva   NaN         HR  2021-02-10      NaN   \n",
      "5         106      NaN  28.0    Finance  2020-08-01  64000.0   \n",
      "6         107   George  40.0         IT         NaT      NaN   \n",
      "7         108    Helen  38.0         IT  2022-03-15  72000.0   \n",
      "\n",
      "   PerformanceRating  \n",
      "0                3.5  \n",
      "1                4.0  \n",
      "2                NaN  \n",
      "3                4.5  \n",
      "4                3.8  \n",
      "5                4.2  \n",
      "6                NaN  \n",
      "7                3.9  \n"
     ]
    }
   ],
   "source": [
    "# Drop rows with any missing values\n",
    "df_droped_rows = df.dropna()\n",
    "print(df_droped_rows)\n",
    "\n",
    "print(\"\\n\")\n",
    "\n",
    "# Drop columns with any missing value:\n",
    "df_droped_cols = df.dropna(axis=1)\n",
    "print(df_droped_cols)\n",
    "\n",
    "print(\"\\n\")\n",
    "\n",
    "# Drop rows only if all values are missing\n",
    "df_droped_all = df.dropna(how='all')\n",
    "print(df_droped_all)"
   ]
  },
  {
   "cell_type": "code",
   "execution_count": 30,
   "id": "1c0daf02",
   "metadata": {},
   "outputs": [
    {
     "name": "stdout",
     "output_type": "stream",
     "text": [
      "   EmployeeID     Name   Age Department JoiningDate   Salary  \\\n",
      "0         101    Alice  25.0         HR  2020-01-15  50000.0   \n",
      "1         102      Bob   0.0         IT  2019-11-01  60000.0   \n",
      "2         103  Charlie  30.0    Finance         NaT  70000.0   \n",
      "3         104    David  45.0    Unknown  2018-05-20  80000.0   \n",
      "4         105      Eva   0.0         HR  2021-02-10      0.0   \n",
      "5         106      NaN  28.0    Finance  2020-08-01  64000.0   \n",
      "6         107   George  40.0         IT         NaT      0.0   \n",
      "7         108    Helen  38.0         IT  2022-03-15  72000.0   \n",
      "\n",
      "   PerformanceRating  \n",
      "0                3.5  \n",
      "1                4.0  \n",
      "2                NaN  \n",
      "3                4.5  \n",
      "4                3.8  \n",
      "5                4.2  \n",
      "6                NaN  \n",
      "7                3.9  \n"
     ]
    }
   ],
   "source": [
    "# Fill with a fixed value (e.g., 0, \"Unknown\"):\n",
    "df_filled_fixed = df.fillna({'Age': 0, 'Department': 'Unknown', 'Salary': 0})\n",
    "print(df_filled_fixed)"
   ]
  },
  {
   "cell_type": "code",
   "execution_count": 32,
   "id": "acce0a1c",
   "metadata": {},
   "outputs": [
    {
     "name": "stdout",
     "output_type": "stream",
     "text": [
      "   EmployeeID     Name        Age Department JoiningDate   Salary  \\\n",
      "0         101    Alice  25.000000         HR  2020-01-15  50000.0   \n",
      "1         102      Bob  34.333333         IT  2019-11-01  60000.0   \n",
      "2         103  Charlie  30.000000    Finance         NaT  70000.0   \n",
      "3         104    David  45.000000        NaN  2018-05-20  80000.0   \n",
      "4         105      Eva  34.333333         HR  2021-02-10  66000.0   \n",
      "5         106      NaN  28.000000    Finance  2020-08-01  64000.0   \n",
      "6         107   George  40.000000         IT         NaT  66000.0   \n",
      "7         108    Helen  38.000000         IT  2022-03-15  72000.0   \n",
      "\n",
      "   PerformanceRating  \n",
      "0           3.500000  \n",
      "1           4.000000  \n",
      "2           3.983333  \n",
      "3           4.500000  \n",
      "4           3.800000  \n",
      "5           4.200000  \n",
      "6           3.983333  \n",
      "7           3.900000  \n",
      "\n",
      "\n",
      "   EmployeeID     Name   Age Department JoiningDate   Salary  \\\n",
      "0         101    Alice  25.0         HR  2020-01-15  50000.0   \n",
      "1         102      Bob  34.0         IT  2019-11-01  60000.0   \n",
      "2         103  Charlie  30.0    Finance         NaT  70000.0   \n",
      "3         104    David  45.0        NaN  2018-05-20  80000.0   \n",
      "4         105      Eva  34.0         HR  2021-02-10  67000.0   \n",
      "5         106      NaN  28.0    Finance  2020-08-01  64000.0   \n",
      "6         107   George  40.0         IT         NaT  67000.0   \n",
      "7         108    Helen  38.0         IT  2022-03-15  72000.0   \n",
      "\n",
      "   PerformanceRating  \n",
      "0               3.50  \n",
      "1               4.00  \n",
      "2               3.95  \n",
      "3               4.50  \n",
      "4               3.80  \n",
      "5               4.20  \n",
      "6               3.95  \n",
      "7               3.90  \n"
     ]
    }
   ],
   "source": [
    "# Fill with mean/median/mode (numeric):\n",
    "df_filled_mean = df.fillna(df.mean(numeric_only=True))  # Fill numeric columns with mean\n",
    "print(df_filled_mean)\n",
    "\n",
    "print(\"\\n\")\n",
    "\n",
    "df_filled_median = df.fillna(df.median(numeric_only=True))  # Fill numeric columns with median\n",
    "print(df_filled_median)"
   ]
  },
  {
   "cell_type": "code",
   "execution_count": 35,
   "id": "c782777f",
   "metadata": {},
   "outputs": [
    {
     "name": "stdout",
     "output_type": "stream",
     "text": [
      "   EmployeeID     Name   Age Department JoiningDate   Salary  \\\n",
      "0         101    Alice  25.0         HR  2020-01-15  50000.0   \n",
      "1         102      Bob  25.0         IT  2019-11-01  60000.0   \n",
      "2         103  Charlie  30.0    Finance  2019-11-01  70000.0   \n",
      "3         104    David  45.0    Finance  2018-05-20  80000.0   \n",
      "4         105      Eva  45.0         HR  2021-02-10  80000.0   \n",
      "5         106      Eva  28.0    Finance  2020-08-01  64000.0   \n",
      "6         107   George  40.0         IT  2020-08-01  64000.0   \n",
      "7         108    Helen  38.0         IT  2022-03-15  72000.0   \n",
      "\n",
      "   PerformanceRating  \n",
      "0                3.5  \n",
      "1                4.0  \n",
      "2                4.0  \n",
      "3                4.5  \n",
      "4                3.8  \n",
      "5                4.2  \n",
      "6                4.2  \n",
      "7                3.9  \n",
      "--------------------------------------------------\n",
      "   EmployeeID     Name   Age Department JoiningDate   Salary  \\\n",
      "0         101    Alice  25.0         HR  2020-01-15  50000.0   \n",
      "1         102      Bob  30.0         IT  2019-11-01  60000.0   \n",
      "2         103  Charlie  30.0    Finance  2018-05-20  70000.0   \n",
      "3         104    David  45.0         HR  2018-05-20  80000.0   \n",
      "4         105      Eva  28.0         HR  2021-02-10  64000.0   \n",
      "5         106   George  28.0    Finance  2020-08-01  64000.0   \n",
      "6         107   George  40.0         IT  2022-03-15  72000.0   \n",
      "7         108    Helen  38.0         IT  2022-03-15  72000.0   \n",
      "\n",
      "   PerformanceRating  \n",
      "0                3.5  \n",
      "1                4.0  \n",
      "2                4.5  \n",
      "3                4.5  \n",
      "4                3.8  \n",
      "5                4.2  \n",
      "6                3.9  \n",
      "7                3.9  \n"
     ]
    },
    {
     "name": "stderr",
     "output_type": "stream",
     "text": [
      "C:\\Users\\eiami\\AppData\\Local\\Temp\\ipykernel_9620\\1197319779.py:2: FutureWarning: DataFrame.fillna with 'method' is deprecated and will raise in a future version. Use obj.ffill() or obj.bfill() instead.\n",
      "  df_filled_ffill = df.fillna(method='ffill')  # Forward fill\n",
      "C:\\Users\\eiami\\AppData\\Local\\Temp\\ipykernel_9620\\1197319779.py:5: FutureWarning: DataFrame.fillna with 'method' is deprecated and will raise in a future version. Use obj.ffill() or obj.bfill() instead.\n",
      "  df_filled_bfill = df.fillna(method='bfill')  # Backward fill\n"
     ]
    }
   ],
   "source": [
    "# . Forward Fill / Backward Fill\n",
    "df_filled_ffill = df.fillna(method='ffill')  # Forward fill\n",
    "print(df_filled_ffill)\n",
    "print(\"-\" * 50)\n",
    "df_filled_bfill = df.fillna(method='bfill')  # Backward fill\n",
    "print(df_filled_bfill)"
   ]
  },
  {
   "cell_type": "code",
   "execution_count": 36,
   "id": "4daf55fa",
   "metadata": {},
   "outputs": [
    {
     "name": "stdout",
     "output_type": "stream",
     "text": [
      "   EmployeeID     Name   Age Department         JoiningDate   Salary  \\\n",
      "0         101    Alice  25.0         HR 2020-01-15 00:00:00  50000.0   \n",
      "1         102      Bob  27.5         IT 2019-11-01 00:00:00  60000.0   \n",
      "2         103  Charlie  30.0    Finance 2019-02-09 00:00:00  70000.0   \n",
      "3         104    David  45.0        NaN 2018-05-20 00:00:00  80000.0   \n",
      "4         105      Eva  36.5         HR 2021-02-10 00:00:00  72000.0   \n",
      "5         106      NaN  28.0    Finance 2020-08-01 00:00:00  64000.0   \n",
      "6         107   George  40.0         IT 2021-05-23 12:00:00  68000.0   \n",
      "7         108    Helen  38.0         IT 2022-03-15 00:00:00  72000.0   \n",
      "\n",
      "   PerformanceRating  \n",
      "0               3.50  \n",
      "1               4.00  \n",
      "2               4.25  \n",
      "3               4.50  \n",
      "4               3.80  \n",
      "5               4.20  \n",
      "6               4.05  \n",
      "7               3.90  \n"
     ]
    },
    {
     "name": "stderr",
     "output_type": "stream",
     "text": [
      "C:\\Users\\eiami\\AppData\\Local\\Temp\\ipykernel_9620\\1484454048.py:3: FutureWarning: DataFrame.interpolate with object dtype is deprecated and will raise in a future version. Call obj.infer_objects(copy=False) before interpolating instead.\n",
      "  df_interpolated = df.interpolate(method='linear')  # Linear interpolation\n"
     ]
    }
   ],
   "source": [
    "# interpolate missing values\n",
    "# Especially useful for time-series or continuous data\n",
    "df_interpolated = df.interpolate(method='linear')  # Linear interpolation\n",
    "print(df_interpolated)"
   ]
  },
  {
   "cell_type": "code",
   "execution_count": null,
   "id": "3c440597",
   "metadata": {},
   "outputs": [],
   "source": []
  }
 ],
 "metadata": {
  "kernelspec": {
   "display_name": "Python 3",
   "language": "python",
   "name": "python3"
  },
  "language_info": {
   "codemirror_mode": {
    "name": "ipython",
    "version": 3
   },
   "file_extension": ".py",
   "mimetype": "text/x-python",
   "name": "python",
   "nbconvert_exporter": "python",
   "pygments_lexer": "ipython3",
   "version": "3.13.3"
  }
 },
 "nbformat": 4,
 "nbformat_minor": 5
}
